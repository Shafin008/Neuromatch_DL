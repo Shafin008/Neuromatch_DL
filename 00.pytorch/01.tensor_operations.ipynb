{
 "cells": [
  {
   "cell_type": "code",
   "execution_count": 1,
   "id": "2848b6b8-7af3-4dbf-9127-a28420185aef",
   "metadata": {},
   "outputs": [],
   "source": [
    "import torch\n",
    "import numpy as np"
   ]
  },
  {
   "cell_type": "markdown",
   "id": "5c6eb8ae-d0da-4ad8-9ac2-33e48160e526",
   "metadata": {},
   "source": [
    "# Operations in PyTorch"
   ]
  },
  {
   "cell_type": "markdown",
   "id": "ac9a9f94-e76f-4857-9583-a44a6fa0ed1e",
   "metadata": {},
   "source": [
    "## Tensor-Tensor operations"
   ]
  },
  {
   "cell_type": "code",
   "execution_count": 2,
   "id": "63e6ceb9-fd56-4b1e-82d8-782d8d39957d",
   "metadata": {},
   "outputs": [
    {
     "data": {
      "text/plain": [
       "tensor([[1., 1., 1.],\n",
       "        [1., 1., 1.],\n",
       "        [1., 1., 1.],\n",
       "        [1., 1., 1.],\n",
       "        [1., 1., 1.]])"
      ]
     },
     "execution_count": 2,
     "metadata": {},
     "output_type": "execute_result"
    }
   ],
   "source": [
    "a = torch.ones(5, 3)\n",
    "a"
   ]
  },
  {
   "cell_type": "code",
   "execution_count": 3,
   "id": "b6d6c4c7-41f9-405b-b72c-c3f9212ccf96",
   "metadata": {},
   "outputs": [
    {
     "data": {
      "text/plain": [
       "tensor([[0.2399, 0.7858, 0.7764],\n",
       "        [0.6358, 0.6567, 0.3133],\n",
       "        [0.7004, 0.6453, 0.3354],\n",
       "        [0.6292, 0.7800, 0.6569],\n",
       "        [0.8808, 0.1326, 0.6250]])"
      ]
     },
     "execution_count": 3,
     "metadata": {},
     "output_type": "execute_result"
    }
   ],
   "source": [
    "b = torch.rand(5, 3)\n",
    "b"
   ]
  },
  {
   "cell_type": "code",
   "execution_count": 4,
   "id": "639056c5-8c3b-4b8f-8641-25402a4220de",
   "metadata": {},
   "outputs": [
    {
     "data": {
      "text/plain": [
       "tensor([[0., 0., 0.],\n",
       "        [0., 0., 0.],\n",
       "        [0., 0., 0.],\n",
       "        [0., 0., 0.],\n",
       "        [0., 0., 0.]])"
      ]
     },
     "execution_count": 4,
     "metadata": {},
     "output_type": "execute_result"
    }
   ],
   "source": [
    "c = torch.empty(5, 3)\n",
    "c"
   ]
  },
  {
   "cell_type": "code",
   "execution_count": 5,
   "id": "9b0b35c7-df60-4af1-b149-a58304ae6f52",
   "metadata": {},
   "outputs": [
    {
     "data": {
      "text/plain": [
       "tensor([[0., 0., 0.],\n",
       "        [0., 0., 0.],\n",
       "        [0., 0., 0.],\n",
       "        [0., 0., 0.],\n",
       "        [0., 0., 0.]])"
      ]
     },
     "execution_count": 5,
     "metadata": {},
     "output_type": "execute_result"
    }
   ],
   "source": [
    "d = torch.empty(5, 3)\n",
    "d"
   ]
  },
  {
   "cell_type": "code",
   "execution_count": 11,
   "id": "150590a1-f714-44f9-807a-419ec851da42",
   "metadata": {},
   "outputs": [
    {
     "name": "stdout",
     "output_type": "stream",
     "text": [
      "tensor([[1.2399, 1.7858, 1.7764],\n",
      "        [1.6358, 1.6567, 1.3133],\n",
      "        [1.7004, 1.6453, 1.3354],\n",
      "        [1.6292, 1.7800, 1.6569],\n",
      "        [1.8808, 1.1326, 1.6250]])\n"
     ]
    }
   ],
   "source": [
    "# torch.add(input, other, *, alpha=1, out=None) → Tensor\n",
    "# Adds other, scaled by alpha, to input.\n",
    "torch.add(a, b, alpha=1, out=c)\n",
    "print(c)"
   ]
  },
  {
   "cell_type": "code",
   "execution_count": 13,
   "id": "11fbd105-50ca-4cca-8798-7f5747d23fea",
   "metadata": {},
   "outputs": [
    {
     "name": "stdout",
     "output_type": "stream",
     "text": [
      "tensor([[1.2399, 1.7858, 1.7764],\n",
      "        [1.6358, 1.6567, 1.3133],\n",
      "        [1.7004, 1.6453, 1.3354],\n",
      "        [1.6292, 1.7800, 1.6569],\n",
      "        [1.8808, 1.1326, 1.6250]])\n"
     ]
    }
   ],
   "source": [
    "print(a+b)"
   ]
  },
  {
   "cell_type": "code",
   "execution_count": 12,
   "id": "30ffddfd-78d7-4e51-a310-78ff683dae90",
   "metadata": {},
   "outputs": [
    {
     "name": "stdout",
     "output_type": "stream",
     "text": [
      "tensor([[0.2399, 0.7858, 0.7764],\n",
      "        [0.6358, 0.6567, 0.3133],\n",
      "        [0.7004, 0.6453, 0.3354],\n",
      "        [0.6292, 0.7800, 0.6569],\n",
      "        [0.8808, 0.1326, 0.6250]])\n"
     ]
    }
   ],
   "source": [
    "# torch.mul(input, other, *, out=None)\n",
    "torch.multiply(a, b, out=d)\n",
    "print(d)"
   ]
  },
  {
   "cell_type": "code",
   "execution_count": 14,
   "id": "3cf0c1dd-79f2-4ca7-ab59-e0bd55a9ab05",
   "metadata": {},
   "outputs": [
    {
     "name": "stdout",
     "output_type": "stream",
     "text": [
      "tensor([[0.2399, 0.7858, 0.7764],\n",
      "        [0.6358, 0.6567, 0.3133],\n",
      "        [0.7004, 0.6453, 0.3354],\n",
      "        [0.6292, 0.7800, 0.6569],\n",
      "        [0.8808, 0.1326, 0.6250]])\n"
     ]
    }
   ],
   "source": [
    "print(a*b)"
   ]
  },
  {
   "cell_type": "markdown",
   "id": "f8744f6d-74b1-4bc4-8b7c-9b55ce531b97",
   "metadata": {},
   "source": [
    "## Tensor Methods"
   ]
  },
  {
   "cell_type": "code",
   "execution_count": 18,
   "id": "edf44bcf-4e2a-4af2-841d-30d913a356b4",
   "metadata": {},
   "outputs": [
    {
     "data": {
      "text/plain": [
       "tensor([[0.5072, 0.0073, 0.8039, 0.2941],\n",
       "        [0.3120, 0.0035, 0.7525, 0.0713],\n",
       "        [0.6252, 0.0487, 0.7941, 0.4842]])"
      ]
     },
     "execution_count": 18,
     "metadata": {},
     "output_type": "execute_result"
    }
   ],
   "source": [
    "x = torch.rand(3,4)\n",
    "x"
   ]
  },
  {
   "cell_type": "code",
   "execution_count": 25,
   "id": "2fd5428a-c2f9-4f8c-92f5-190b7ccbb8af",
   "metadata": {},
   "outputs": [
    {
     "name": "stdout",
     "output_type": "stream",
     "text": [
      "Sum of every element of x: 4.70390510559082\n",
      "Sum of the columns of x: tensor([1.4444, 0.0594, 2.3505, 0.8495])\n",
      "Sum of the rows of x: tensor([1.6125, 1.1393, 1.9522])\n"
     ]
    }
   ],
   "source": [
    "print(f\"Sum of every element of x: {x.sum()}\")\n",
    "\n",
    "print(f\"Sum of the columns of x: {x.sum(axis=0)}\") # 4 cols\n",
    "\n",
    "print(f\"Sum of the rows of x: {x.sum(axis=1)}\") # 3 rows"
   ]
  },
  {
   "cell_type": "code",
   "execution_count": 24,
   "id": "d5a37fb5-6258-4087-9d0f-311734244c4e",
   "metadata": {},
   "outputs": [
    {
     "name": "stdout",
     "output_type": "stream",
     "text": [
      "Mean value of all elements of x 0.39199209213256836\n",
      "Mean values of the columns of x tensor([0.4815, 0.0198, 0.7835, 0.2832])\n",
      "Mean values of the rows of x tensor([0.4031, 0.2848, 0.4880])\n"
     ]
    }
   ],
   "source": [
    "print(f\"Mean value of all elements of x {x.mean()}\")\n",
    "print(f\"Mean values of the columns of x {x.mean(axis=0)}\")\n",
    "print(f\"Mean values of the rows of x {x.mean(axis=1)}\")"
   ]
  },
  {
   "cell_type": "markdown",
   "id": "472225c6-0fd8-4228-acb9-8483029b9061",
   "metadata": {},
   "source": [
    "## Matrix Operations\n",
    "\n",
    "The `@` symbol is overridden to represent matrix multiplication. You can also use `torch.matmul()` to multiply tensors. \n",
    "\n",
    "For dot multiplication, you can use `torch.dot()`, or manipulate the axes of your tensors and do matrix multiplication.\n",
    "\n",
    "Transposes of 2D tensors are obtained using `torch.t()` or `Tensor.T`. Note the lack of brackets for Tensor.T - it is an attribute, not a method."
   ]
  },
  {
   "cell_type": "markdown",
   "id": "61480760-4af2-4f18-86ae-30ab3472fad9",
   "metadata": {},
   "source": [
    "## Exercise: Matrix Multiplication"
   ]
  },
  {
   "cell_type": "code",
   "execution_count": 29,
   "id": "b5e5b8de-19c4-4114-94bc-b20d64764e9b",
   "metadata": {},
   "outputs": [],
   "source": [
    "def simple_operations(a1: torch.Tensor, a2: torch.Tensor, a3: torch.Tensor):\n",
    "    \"\"\"\n",
    "    Helper function to demonstrate simple operations\n",
    "    i.e., Multiplication of tensor a1 with tensor a2 and then add it with tensor a3\n",
    "    \n",
    "    Args:\n",
    "    a1: Torch tensor\n",
    "      Tensor of size ([2,2])\n",
    "    a2: Torch tensor\n",
    "      Tensor of size ([2,2])\n",
    "    a3: Torch tensor\n",
    "      Tensor of size ([2,2])\n",
    "    \n",
    "    Returns:\n",
    "    answer: Torch tensor\n",
    "      Tensor of size ([2,2]) resulting from a1 multiplied with a2, added with a3\n",
    "    \"\"\"\n",
    "    ################################################\n",
    "    ## TODO for students:  complete the first computation using the argument matricies\n",
    "    # raise NotImplementedError(\"Student exercise: fill in the missing code to complete the operation\")\n",
    "    ################################################\n",
    "    #\n",
    "    answer = a1 @ a2 + a3\n",
    "    return answer"
   ]
  },
  {
   "cell_type": "code",
   "execution_count": 30,
   "id": "9a1d26a4-9cb0-49d4-b6c3-3dc09f39fe65",
   "metadata": {},
   "outputs": [
    {
     "name": "stdout",
     "output_type": "stream",
     "text": [
      "tensor([[20, 24],\n",
      "        [31, 27]])\n"
     ]
    }
   ],
   "source": [
    "# init our tensors\n",
    "a1 = torch.tensor([[2, 4], [5, 7]])\n",
    "a2 = torch.tensor([[1, 1], [2, 3]])\n",
    "a3 = torch.tensor([[10, 10], [12, 1]])\n",
    "\n",
    "A = simple_operations(a1, a2, a3)\n",
    "print(A)"
   ]
  },
  {
   "cell_type": "code",
   "execution_count": 31,
   "id": "ffe616bd-5d46-4f1f-aed4-10d81bb66b39",
   "metadata": {},
   "outputs": [],
   "source": [
    "def dot_product(b1: torch.Tensor, b2: torch.Tensor):\n",
    "    ###############################################\n",
    "    ## TODO for students:  complete the first computation using the argument matricies\n",
    "    # raise NotImplementedError(\"Student exercise: fill in the missing code to complete the operation\")\n",
    "    ###############################################\n",
    "    \"\"\"\n",
    "    Helper function to demonstrate dot product operation\n",
    "    Dot product is an algebraic operation that takes two equal-length sequences\n",
    "    (usually coordinate vectors), and returns a single number.\n",
    "    Geometrically, it is the product of the Euclidean magnitudes of the\n",
    "    two vectors and the cosine of the angle between them.\n",
    "    \n",
    "    Args:\n",
    "    b1: Torch tensor\n",
    "      Tensor of size ([3])\n",
    "    b2: Torch tensor\n",
    "      Tensor of size ([3])\n",
    "    \n",
    "    Returns:\n",
    "    product: Tensor\n",
    "      Tensor of size ([1]) resulting from b1 scalar multiplied with b2\n",
    "    \"\"\"\n",
    "    # Use torch.dot() to compute the dot product of two tensors\n",
    "    product = torch.dot(b1,b2)\n",
    "    return product"
   ]
  },
  {
   "cell_type": "code",
   "execution_count": 33,
   "id": "a0dce114-449b-4ffd-ae3d-7e5fc9b356e6",
   "metadata": {},
   "outputs": [
    {
     "name": "stdout",
     "output_type": "stream",
     "text": [
      "tensor(82)\n"
     ]
    }
   ],
   "source": [
    "b1 = torch.tensor([3, 5, 7])\n",
    "b2 = torch.tensor([2, 4, 8])\n",
    "\n",
    "b = dot_product(b1, b2)\n",
    "print(b)"
   ]
  },
  {
   "cell_type": "code",
   "execution_count": null,
   "id": "975d4d9f-82e8-4e1a-b9d1-6e809a8915fd",
   "metadata": {},
   "outputs": [],
   "source": []
  },
  {
   "cell_type": "code",
   "execution_count": null,
   "id": "8a57ce81-31dd-48d1-b6bc-02b512d8e72c",
   "metadata": {},
   "outputs": [],
   "source": []
  }
 ],
 "metadata": {
  "kernelspec": {
   "display_name": "Python 3 (ipykernel)",
   "language": "python",
   "name": "python3"
  },
  "language_info": {
   "codemirror_mode": {
    "name": "ipython",
    "version": 3
   },
   "file_extension": ".py",
   "mimetype": "text/x-python",
   "name": "python",
   "nbconvert_exporter": "python",
   "pygments_lexer": "ipython3",
   "version": "3.12.9"
  }
 },
 "nbformat": 4,
 "nbformat_minor": 5
}
