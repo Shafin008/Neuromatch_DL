{
 "cells": [
  {
   "cell_type": "code",
   "execution_count": 44,
   "id": "8d2f83b6-003a-42d3-b79e-abf630d30b5f",
   "metadata": {},
   "outputs": [],
   "source": [
    "import torch\n",
    "from torchvision import datasets\n",
    "from torchvision.transforms import ToTensor"
   ]
  },
  {
   "cell_type": "markdown",
   "id": "eba9c2e4-434f-4486-b68b-4eaa598f8bb5",
   "metadata": {},
   "source": [
    "## Datasets\n",
    "Let’s load the CIFAR10 dataset, which contains color images of 10 different classes, like vehicles and animals.\n",
    "\n",
    "Creating an object of type datasets.CIFAR10 will automatically download and load all images from the dataset. The resulting data structure can be treated as a list containing data samples and their corresponding labels."
   ]
  },
  {
   "cell_type": "code",
   "execution_count": 5,
   "id": "1a696954-2fa4-4f98-8027-62d9ac23f7b6",
   "metadata": {},
   "outputs": [
    {
     "name": "stdout",
     "output_type": "stream",
     "text": [
      "Downloading https://www.cs.toronto.edu/~kriz/cifar-10-python.tar.gz to '/Users/shafinsaapel/torch_data/cifar-10-python.tar.gz\n"
     ]
    },
    {
     "name": "stderr",
     "output_type": "stream",
     "text": [
      "100%|████████████████████████████████████████| 170M/170M [01:58<00:00, 1.44MB/s]\n"
     ]
    },
    {
     "name": "stdout",
     "output_type": "stream",
     "text": [
      "Extracting '/Users/shafinsaapel/torch_data/cifar-10-python.tar.gz to '/Users/shafinsaapel/torch_data\n"
     ]
    }
   ],
   "source": [
    "cifar10_data = datasets.CIFAR10(\n",
    "    root=\"'/Users/shafinsaapel/torch_data\",\n",
    "    download=True,\n",
    "    transform=ToTensor() # transforms the images to tensor\n",
    ")"
   ]
  },
  {
   "cell_type": "code",
   "execution_count": 6,
   "id": "b01496a7-1156-4dc7-865a-66b0f07d2791",
   "metadata": {},
   "outputs": [
    {
     "data": {
      "text/plain": [
       "Dataset CIFAR10\n",
       "    Number of datapoints: 50000\n",
       "    Root location: '/Users/shafinsaapel/torch_data\n",
       "    Split: Train\n",
       "    StandardTransform\n",
       "Transform: ToTensor()"
      ]
     },
     "execution_count": 6,
     "metadata": {},
     "output_type": "execute_result"
    }
   ],
   "source": [
    "cifar10_data"
   ]
  },
  {
   "cell_type": "code",
   "execution_count": 7,
   "id": "f09a097f-3dca-488f-99e0-33024584dbad",
   "metadata": {},
   "outputs": [
    {
     "name": "stdout",
     "output_type": "stream",
     "text": [
      "Number of samples: 50000\n",
      "Class names: ['airplane', 'automobile', 'bird', 'cat', 'deer', 'dog', 'frog', 'horse', 'ship', 'truck']\n"
     ]
    }
   ],
   "source": [
    "# Print the number of samples in the loaded dataset\n",
    "print(f\"Number of samples: {len(cifar10_data)}\")\n",
    "print(f\"Class names: {cifar10_data.classes}\")"
   ]
  },
  {
   "cell_type": "code",
   "execution_count": 8,
   "id": "fc5933f3-bad2-407e-9916-47bba32f0613",
   "metadata": {},
   "outputs": [
    {
     "data": {
      "text/plain": [
       "torchvision.datasets.cifar.CIFAR10"
      ]
     },
     "execution_count": 8,
     "metadata": {},
     "output_type": "execute_result"
    }
   ],
   "source": [
    "type(cifar10_data)"
   ]
  },
  {
   "cell_type": "code",
   "execution_count": 17,
   "id": "55d6f9a0-5a4e-4860-96f5-13247f740eda",
   "metadata": {},
   "outputs": [
    {
     "data": {
      "text/plain": [
       "(2, torch.Size([3, 32, 32]))"
      ]
     },
     "execution_count": 17,
     "metadata": {},
     "output_type": "execute_result"
    }
   ],
   "source": [
    "# shape of an example image\n",
    "len(cifar10_data[0]), cifar10_data[0][0].shape"
   ]
  },
  {
   "cell_type": "code",
   "execution_count": 18,
   "id": "b089b073-f4e4-4265-943a-02d8690f0248",
   "metadata": {},
   "outputs": [
    {
     "data": {
      "text/plain": [
       "6"
      ]
     },
     "execution_count": 18,
     "metadata": {},
     "output_type": "execute_result"
    }
   ],
   "source": [
    "# label for 1st example image\n",
    "cifar10_data[0][1]"
   ]
  },
  {
   "cell_type": "code",
   "execution_count": 28,
   "id": "161c5e2f-b3d1-4a89-839d-a01763dc7bb6",
   "metadata": {},
   "outputs": [],
   "source": [
    "import random"
   ]
  },
  {
   "cell_type": "code",
   "execution_count": 30,
   "id": "eaf164f7-744e-401d-b917-e5d49f0ca6ca",
   "metadata": {},
   "outputs": [
    {
     "name": "stdout",
     "output_type": "stream",
     "text": [
      "Label: automobile\n",
      "Image size: torch.Size([3, 32, 32])\n"
     ]
    }
   ],
   "source": [
    "# image from a random sample\n",
    "sample = random.randint(0, len(cifar10_data))\n",
    "image, label = cifar10_data[sample]\n",
    "print(f\"Label: {cifar10_data.classes[label]}\")\n",
    "print(f\"Image size: {image.shape}\")"
   ]
  },
  {
   "cell_type": "markdown",
   "id": "b159448c-fac3-4a17-b09f-ab27faef0263",
   "metadata": {},
   "source": [
    "Color images are modeled as 3 dimensional tensors. The first dimension corresponds to the channels (C) of the image (in this case we have RGB images). The second dimensions is the height (H) of the image and the third is the width (W). We can denote this image format as C x H x W"
   ]
  },
  {
   "cell_type": "markdown",
   "id": "04aec3b7-aa12-439d-8db8-4f4941d564c6",
   "metadata": {},
   "source": [
    "### Display an image from the dataset\n",
    "Let’s try to display the image using matplotlib. The code below will not work, because imshow expects to have the image in a different format, i.e., C x H x W.\n",
    "\n",
    "You need to reorder the dimensions of the tensor using the permute method of the tensor. PyTorch torch.permute(*dims) rearranges the original tensor according to the desired ordering and returns a new multidimensional rotated tensor. The size of the returned tensor remains the same as that of the original."
   ]
  },
  {
   "cell_type": "code",
   "execution_count": 31,
   "id": "d51d6ff2-c69c-4adb-8103-f95e261eb05e",
   "metadata": {},
   "outputs": [
    {
     "name": "stdout",
     "output_type": "stream",
     "text": [
      "torch.Size([2, 4])\n",
      "tensor([[ 0.9574,  0.0064,  0.7882, -0.5720],\n",
      "        [ 1.1020,  1.6272,  0.0709,  0.3847]])\n",
      "torch.Size([4, 2])\n",
      "tensor([[ 0.9574,  1.1020],\n",
      "        [ 0.0064,  1.6272],\n",
      "        [ 0.7882,  0.0709],\n",
      "        [-0.5720,  0.3847]])\n"
     ]
    }
   ],
   "source": [
    "# create a tensor of size 2 x 4\n",
    "input_var = torch.randn(2, 4)\n",
    "# print its size and the tensor\n",
    "print(input_var.size())\n",
    "print(input_var)\n",
    "\n",
    "# dimensions permuted\n",
    "input_var = input_var.permute(1, 0)\n",
    "# print its size and the permuted tensor\n",
    "print(input_var.size())\n",
    "print(input_var)"
   ]
  },
  {
   "cell_type": "code",
   "execution_count": 33,
   "id": "c6214377-2e54-4cc9-8308-48e395260b23",
   "metadata": {},
   "outputs": [],
   "source": [
    "import matplotlib.pyplot as plt"
   ]
  },
  {
   "cell_type": "code",
   "execution_count": 36,
   "id": "b65f2182-5adf-4aab-9114-e85346c2a16f",
   "metadata": {},
   "outputs": [
    {
     "data": {
      "image/png": "[encoded data removed]",
      "text/plain": [
       "<Figure size 640x480 with 1 Axes>"
      ]
     },
     "metadata": {},
     "output_type": "display_data"
    }
   ],
   "source": [
    "# TODO: Uncomment the following line to see the error that arises from the current image format\n",
    "# plt.imshow(image)\n",
    "\n",
    "# TODO: Comment the above line and fix this code by reordering the tensor dimensions\n",
    "plt.imshow(image.permute(1,2,0))\n",
    "plt.show()"
   ]
  },
  {
   "cell_type": "code",
   "execution_count": 38,
   "id": "be08fb07-5885-4c48-9fd8-ad26e063bae4",
   "metadata": {},
   "outputs": [
    {
     "data": {
      "text/plain": [
       "[['data_batch_1', 'c99cafc152244af753f735de768cd75f'],\n",
       " ['data_batch_2', 'd4bba439e000b95fd0a9bffe97cbabec'],\n",
       " ['data_batch_3', '54ebc095f3ab1f0389bbae665268c751'],\n",
       " ['data_batch_4', '634d18415352ddfa80567beed471001a'],\n",
       " ['data_batch_5', '482c414d41f54cd18b22e5b47cb7c3cb']]"
      ]
     },
     "execution_count": 38,
     "metadata": {},
     "output_type": "execute_result"
    }
   ],
   "source": [
    "cifar10_data."
   ]
  },
  {
   "cell_type": "markdown",
   "id": "8ce95871-30d2-407f-96c2-7c41e6aedeae",
   "metadata": {},
   "source": [
    "### Training and Test Datasets\n",
    "\n",
    "When loading a dataset, you can specify if you want to load the training or the test samples using the train argument. We can load the training and test datasets separately. "
   ]
  },
  {
   "cell_type": "code",
   "execution_count": 39,
   "id": "11e8f1c6-0592-4e67-9435-ea50a116d8d8",
   "metadata": {},
   "outputs": [
    {
     "data": {
      "text/plain": [
       "\"'/Users/shafinsaapel/torch_data\""
      ]
     },
     "execution_count": 39,
     "metadata": {},
     "output_type": "execute_result"
    }
   ],
   "source": [
    "cifar10_data.root"
   ]
  },
  {
   "cell_type": "code",
   "execution_count": 57,
   "id": "dc2b1a4e-a613-46be-be1f-4cc306f310ee",
   "metadata": {},
   "outputs": [
    {
     "name": "stdout",
     "output_type": "stream",
     "text": [
      "Downloading https://www.cs.toronto.edu/~kriz/cifar-10-python.tar.gz to /Users/shafinsaapel/torch_data/cifar/cifar-10-python.tar.gz\n"
     ]
    },
    {
     "name": "stderr",
     "output_type": "stream",
     "text": [
      "100%|████████████████████████████████████████| 170M/170M [00:58<00:00, 2.92MB/s]\n"
     ]
    },
    {
     "name": "stdout",
     "output_type": "stream",
     "text": [
      "Extracting /Users/shafinsaapel/torch_data/cifar/cifar-10-python.tar.gz to /Users/shafinsaapel/torch_data/cifar/\n"
     ]
    }
   ],
   "source": [
    "traininig_data = datasets.CIFAR10(\n",
    "    root=\"/Users/shafinsaapel/torch_data/cifar/\",\n",
    "    train = True,\n",
    "    download = True,\n",
    "    transform=ToTensor()\n",
    ")"
   ]
  },
  {
   "cell_type": "code",
   "execution_count": 59,
   "id": "3bde8f97-68ec-4b86-a2b3-5b39ffa73258",
   "metadata": {},
   "outputs": [
    {
     "name": "stdout",
     "output_type": "stream",
     "text": [
      "Files already downloaded and verified\n"
     ]
    }
   ],
   "source": [
    "test_data = datasets.CIFAR10(\n",
    "    root=\"/Users/shafinsaapel/torch_data/cifar/\",\n",
    "    train = False,\n",
    "    download = True,\n",
    "    transform=ToTensor()\n",
    ")"
   ]
  },
  {
   "cell_type": "markdown",
   "id": "ab0f7dd2-53b1-45b1-b2af-5adcebdb20c8",
   "metadata": {},
   "source": [
    "### Dataloader\n",
    "\n",
    "Another important concept is the Dataloader. It is a wrapper around the Dataset that splits it into minibatches (important for training the neural network) and makes the data iterable. The shuffle argument is used to shuffle the order of the samples across the minibatches."
   ]
  },
  {
   "cell_type": "code",
   "execution_count": 45,
   "id": "7e545d62-1156-453a-8ccc-f1555aa1b147",
   "metadata": {},
   "outputs": [],
   "source": [
    "from torch.utils.data import DataLoader\n",
    "from torchvision.transforms import Compose, Grayscale"
   ]
  },
  {
   "cell_type": "code",
   "execution_count": 48,
   "id": "27b3759c-f5a0-4335-99c1-ffb392b21df2",
   "metadata": {},
   "outputs": [],
   "source": [
    "# Create dataloader\n",
    "train_dataloader = DataLoader(\n",
    "    traininig_data,\n",
    "    batch_size=64,\n",
    "    shuffle=True\n",
    ")\n",
    "\n",
    "test_dataloader = DataLoader(\n",
    "    test_data,\n",
    "    batch_size=64,\n",
    "    shuffle=True\n",
    ")"
   ]
  },
  {
   "cell_type": "markdown",
   "id": "8ea2a6b0-deb7-4946-8486-2be80855b7e3",
   "metadata": {},
   "source": [
    "We can now query the next batch from the data loader and inspect it. For this we need to convert the dataloader object to a Python iterator using the function iter and then we can query the next batch using the function next."
   ]
  },
  {
   "cell_type": "code",
   "execution_count": 50,
   "id": "c4bdfe98-4277-4080-aa63-03c66da883db",
   "metadata": {},
   "outputs": [],
   "source": [
    "# load the next batch\n",
    "batch_images, batch_labels = next(iter(train_dataloader))"
   ]
  },
  {
   "cell_type": "code",
   "execution_count": 52,
   "id": "78b3ee49-e1ea-4625-8ced-33e016c8d06f",
   "metadata": {},
   "outputs": [
    {
     "data": {
      "text/plain": [
       "64"
      ]
     },
     "execution_count": 52,
     "metadata": {},
     "output_type": "execute_result"
    }
   ],
   "source": [
    "len(batch_images)"
   ]
  },
  {
   "cell_type": "code",
   "execution_count": 53,
   "id": "6a9df77e-1611-467d-805e-c9f63cff583c",
   "metadata": {},
   "outputs": [
    {
     "data": {
      "image/png": "[encoded data removed]",
      "text/plain": [
       "<Figure size 640x480 with 1 Axes>"
      ]
     },
     "metadata": {},
     "output_type": "display_data"
    }
   ],
   "source": [
    "# display the first image of the batch\n",
    "plt.imshow(batch_images[0].permute(1,2,0))\n",
    "plt.show()"
   ]
  },
  {
   "cell_type": "markdown",
   "id": "ec6128d3-9179-4eb0-8e43-cade24d63369",
   "metadata": {},
   "source": [
    "### Transformations\n",
    "\n",
    "Another useful feature when loading a dataset is applying transformations on the data - color conversions, normalization, cropping, rotation etc. There are many predefined transformations in the torchvision.transforms package and you can also combine them using the Compose transform."
   ]
  },
  {
   "cell_type": "code",
   "execution_count": 61,
   "id": "991ef67e-a523-47c8-8d86-8ec3b158e798",
   "metadata": {},
   "outputs": [],
   "source": [
    "import numpy as np"
   ]
  },
  {
   "cell_type": "code",
   "execution_count": 62,
   "id": "f6239ef8-8ed4-44d0-93da-3a6a2c404097",
   "metadata": {},
   "outputs": [],
   "source": [
    "def set_seed(seed=None, seed_torch=True):\n",
    "    \"\"\"\n",
    "    Function that controls randomness. NumPy and random modules must be imported.\n",
    "    \n",
    "    Args:\n",
    "    seed : Integer\n",
    "      A non-negative integer that defines the random state. Default is `None`.\n",
    "    seed_torch : Boolean\n",
    "      If `True` sets the random seed for pytorch tensors, so pytorch module\n",
    "      must be imported. Default is `True`.\n",
    "    \n",
    "    Returns:\n",
    "    Nothing.\n",
    "    \"\"\"\n",
    "    if seed is None:\n",
    "        seed = np.random.choice(2 ** 32)\n",
    "        \n",
    "    random.seed(seed)\n",
    "    np.random.seed(seed)\n",
    "    \n",
    "    if seed_torch:\n",
    "        torch.manual_seed(seed)\n",
    "        # torch.cuda.manual_seed_all(seed)\n",
    "        # torch.cuda.manual_seed(seed)\n",
    "        # torch.backends.cudnn.benchmark = False\n",
    "        # torch.backends.cudnn.deterministic = True\n",
    "    \n",
    "    print(f'Random seed {seed} has been set.')"
   ]
  },
  {
   "cell_type": "markdown",
   "id": "72b40e83-b28c-4b12-b70a-db9f010cc6d9",
   "metadata": {},
   "source": [
    "## Exercise: Load the CIFAR10 dataset as grayscale images\n",
    "The goal of this excercise is to load the images from the CIFAR10 dataset as grayscale images. Note that we rerun the set_seed function to ensure reproducibility."
   ]
  },
  {
   "cell_type": "code",
   "execution_count": 86,
   "id": "b05d3c1e-7e7b-4d55-85f6-cbe0be31f48a",
   "metadata": {},
   "outputs": [
    {
     "name": "stdout",
     "output_type": "stream",
     "text": [
      "Random seed 2021 has been set.\n"
     ]
    }
   ],
   "source": [
    "def my_data_load():\n",
    "    \"\"\"\n",
    "    Function to load CIFAR10 data as grayscale images\n",
    "    \n",
    "    Args:\n",
    "    None\n",
    "    \n",
    "    Returns:\n",
    "    data: DataFrame\n",
    "      CIFAR10 loaded Dataframe of shape (3309, 14)\n",
    "    \"\"\"\n",
    "    ###############################################\n",
    "    ## TODO for students: load the CIFAR10 data,\n",
    "    ## but as grayscale images and not as RGB colored.\n",
    "    # raise NotImplementedError(\"Student exercise: fill in the missing code to load the data\")\n",
    "    ###############################################\n",
    "    ## TODO Load the CIFAR10 data using a transform that converts the images to grayscale tensors\n",
    "    data = datasets.CIFAR10(\n",
    "      root=\"/Users/shafinsaapel/torch_data/cifar/\",\n",
    "      download=True,\n",
    "      transform=Compose([\n",
    "          ToTensor(),\n",
    "          Grayscale()\n",
    "      ])\n",
    "    )\n",
    "    # Display a random grayscale image\n",
    "    sample = random.randint(0, len(data))\n",
    "    image, label = data[sample]\n",
    "    print(f\"Label: {data.classes[label]}\")\n",
    "    plt.imshow(image.squeeze(), cmap='gray')\n",
    "    plt.show()\n",
    "    return data\n",
    "\n",
    "\n",
    "set_seed(seed=2021)"
   ]
  },
  {
   "cell_type": "code",
   "execution_count": 87,
   "id": "e9461bd4-403d-469f-acbc-27a67830ba76",
   "metadata": {},
   "outputs": [
    {
     "name": "stdout",
     "output_type": "stream",
     "text": [
      "Files already downloaded and verified\n",
      "Label: horse\n"
     ]
    },
    {
     "data": {
      "image/png": "[encoded data removed]",
      "text/plain": [
       "<Figure size 640x480 with 1 Axes>"
      ]
     },
     "metadata": {},
     "output_type": "display_data"
    }
   ],
   "source": [
    "## After implementing the above code, uncomment the following lines to test your code\n",
    "data = my_data_load()"
   ]
  },
  {
   "cell_type": "code",
   "execution_count": null,
   "id": "380edfad-3cb3-4d69-9d46-40ba60f80b30",
   "metadata": {},
   "outputs": [],
   "source": []
  },
  {
   "cell_type": "code",
   "execution_count": null,
   "id": "ddfeed98-22e9-4156-a92d-4026d2a4c5d5",
   "metadata": {},
   "outputs": [],
   "source": []
  }
 ],
 "metadata": {
  "kernelspec": {
   "display_name": "Python 3 (ipykernel)",
   "language": "python",
   "name": "python3"
  },
  "language_info": {
   "codemirror_mode": {
    "name": "ipython",
    "version": 3
   },
   "file_extension": ".py",
   "mimetype": "text/x-python",
   "name": "python",
   "nbconvert_exporter": "python",
   "pygments_lexer": "ipython3",
   "version": "3.12.9"
  }
 },
 "nbformat": 4,
 "nbformat_minor": 5
}
