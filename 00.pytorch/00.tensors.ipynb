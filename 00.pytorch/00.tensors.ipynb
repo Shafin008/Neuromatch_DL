{
 "cells": [
  {
   "cell_type": "code",
   "execution_count": 6,
   "id": "31fffb25-caa4-4cae-936b-6bc6a1b1c668",
   "metadata": {},
   "outputs": [],
   "source": [
    "import torch\n",
    "import numpy as np"
   ]
  },
  {
   "cell_type": "markdown",
   "id": "8f0943aa-94b4-4146-a50f-92a70cc36ad9",
   "metadata": {},
   "source": [
    "## Tensor from python and numpy\n",
    "We can construct a tensor directly from some common python iterables, such as list and tuple nested iterables can also be handled as long as the dimensions are compatible"
   ]
  },
  {
   "cell_type": "code",
   "execution_count": 3,
   "id": "390ebde1-09c8-46bd-a364-1c2d9b74b378",
   "metadata": {},
   "outputs": [
    {
     "data": {
      "text/plain": [
       "tensor([0, 1, 2])"
      ]
     },
     "execution_count": 3,
     "metadata": {},
     "output_type": "execute_result"
    }
   ],
   "source": [
    "a = [0, 1, 2]\n",
    "# list -> tensor\n",
    "a_tensor = torch.tensor(a)\n",
    "a_tensor"
   ]
  },
  {
   "cell_type": "code",
   "execution_count": 4,
   "id": "b9e813d7-0f7f-4d1a-8b26-3b9eb70a6948",
   "metadata": {},
   "outputs": [
    {
     "data": {
      "text/plain": [
       "tensor([[1.0000, 1.1000],\n",
       "        [1.2000, 1.3000]])"
      ]
     },
     "execution_count": 4,
     "metadata": {},
     "output_type": "execute_result"
    }
   ],
   "source": [
    "b = ((1.0, 1.1), (1.2, 1.3))\n",
    "# tuple -> tensor\n",
    "b_tensor = torch.tensor(b)\n",
    "b_tensor"
   ]
  },
  {
   "cell_type": "code",
   "execution_count": 7,
   "id": "90c6bc7f-81bb-46bc-ba3a-3e3ec625b9e7",
   "metadata": {},
   "outputs": [
    {
     "data": {
      "text/plain": [
       "tensor([[1., 1., 1.],\n",
       "        [1., 1., 1.]], dtype=torch.float64)"
      ]
     },
     "execution_count": 7,
     "metadata": {},
     "output_type": "execute_result"
    }
   ],
   "source": [
    "c = np.ones([2,3])\n",
    "# numpy array -> tensor\n",
    "c_tensor = torch.tensor(c)\n",
    "c_tensor"
   ]
  },
  {
   "cell_type": "markdown",
   "id": "840b9784-20f6-4e4f-860b-2bdb3b43de0d",
   "metadata": {},
   "source": [
    "## Zeros, Ones, Empty tensors"
   ]
  },
  {
   "cell_type": "code",
   "execution_count": 12,
   "id": "6f3d9343-a393-4934-9dc1-75966b3aef6b",
   "metadata": {},
   "outputs": [
    {
     "name": "stdout",
     "output_type": "stream",
     "text": [
      "tensor([1., 1., 1., 1., 1.])\n",
      "\n",
      "tensor([[1., 1., 1.],\n",
      "        [1., 1., 1.],\n",
      "        [1., 1., 1.],\n",
      "        [1., 1., 1.],\n",
      "        [1., 1., 1.]])\n"
     ]
    }
   ],
   "source": [
    "# ones\n",
    "x = torch.ones(5)\n",
    "print(x)\n",
    "print()\n",
    "x1 = torch.ones([5,3])\n",
    "print(x1)"
   ]
  },
  {
   "cell_type": "code",
   "execution_count": 26,
   "id": "18508b9e-209f-4136-8212-9814fbb8b667",
   "metadata": {},
   "outputs": [
    {
     "name": "stdout",
     "output_type": "stream",
     "text": [
      "tensor([0., 0., 0., 0., 0.])\n",
      "\n",
      "tensor([[0., 0., 0.],\n",
      "        [0., 0., 0.],\n",
      "        [0., 0., 0.],\n",
      "        [0., 0., 0.],\n",
      "        [0., 0., 0.]])\n"
     ]
    }
   ],
   "source": [
    "# zeros\n",
    "y = torch.zeros(5)\n",
    "print(y)\n",
    "print()\n",
    "y1 = torch.zeros([5,3])\n",
    "print(y1)"
   ]
  },
  {
   "cell_type": "code",
   "execution_count": 21,
   "id": "7c02f4c2-0ef3-4fbc-ad8b-6113222bb4f1",
   "metadata": {},
   "outputs": [
    {
     "name": "stdout",
     "output_type": "stream",
     "text": [
      "tensor([0., 0., 0., 0., 0.])\n",
      "\n",
      "tensor([[0., 0., 0.],\n",
      "        [0., 0., 0.],\n",
      "        [0., 0., 0.],\n",
      "        [0., 0., 0.],\n",
      "        [0., 0., 0.]])\n",
      "\n",
      "tensor([[[0., 0., 0., 0., 0.]]])\n"
     ]
    }
   ],
   "source": [
    "# empty\n",
    "z = torch.empty(5)\n",
    "print(z)\n",
    "print()\n",
    "z1 = torch.empty([5,3])\n",
    "print(z1)\n",
    "print()\n",
    "z2 = torch.empty([1, 1, 5])\n",
    "print(z2)"
   ]
  },
  {
   "cell_type": "markdown",
   "id": "b87e08ac-a2b7-4438-a386-9f3155331074",
   "metadata": {},
   "source": [
    "`.empty()` does not always return zeros, but seemingly random numbers. Unlike `.zeros()`, which initialises the elements of the tensor with zeros, `.empty()` just allocates the memory. It is hence a bit faster if you are looking to just create a tensor."
   ]
  },
  {
   "cell_type": "markdown",
   "id": "24f4cf5c-c8b4-41a3-af48-05fe3c557942",
   "metadata": {},
   "source": [
    "## Creating random tensors and tensors like other tensors"
   ]
  },
  {
   "cell_type": "code",
   "execution_count": 28,
   "id": "4768561e-13ab-4902-8892-b1d0cb9eb3a1",
   "metadata": {},
   "outputs": [
    {
     "name": "stdout",
     "output_type": "stream",
     "text": [
      "tensor([[0.4108, 0.3167, 0.8838],\n",
      "        [0.1632, 0.5353, 0.9841]])\n"
     ]
    }
   ],
   "source": [
    "# Uniform dist\n",
    "u = torch.rand([2,3])\n",
    "print(u)"
   ]
  },
  {
   "cell_type": "code",
   "execution_count": 30,
   "id": "802464d1-efe5-4f00-bc43-6f97c462aa95",
   "metadata": {},
   "outputs": [
    {
     "name": "stdout",
     "output_type": "stream",
     "text": [
      "tensor([[-0.3203,  0.1340,  0.5702],\n",
      "        [ 0.0492,  0.4280,  0.5327]])\n"
     ]
    }
   ],
   "source": [
    "# normal dist\n",
    "n = torch.randn([2,3])\n",
    "print(n)"
   ]
  },
  {
   "cell_type": "markdown",
   "id": "b69e05f0-04b8-47ca-980a-80eebe7cf9bf",
   "metadata": {},
   "source": [
    "There are also constructors that allow us to construct a tensor according to the above constructors, but with dimensions equal to another tensor."
   ]
  },
  {
   "cell_type": "code",
   "execution_count": 31,
   "id": "921d5aa3-3758-469f-85cb-d5f23cb8dd3a",
   "metadata": {},
   "outputs": [
    {
     "name": "stdout",
     "output_type": "stream",
     "text": [
      "tensor([[0., 0., 0.],\n",
      "        [0., 0., 0.]])\n"
     ]
    }
   ],
   "source": [
    "zl = torch.zeros_like(u)\n",
    "print(zl)"
   ]
  },
  {
   "cell_type": "code",
   "execution_count": 32,
   "id": "3623117c-0a86-4a08-8a9c-b42b032e6fe5",
   "metadata": {},
   "outputs": [
    {
     "name": "stdout",
     "output_type": "stream",
     "text": [
      "tensor([[0.0337, 0.1152, 0.4512],\n",
      "        [0.6057, 0.6704, 0.2001]])\n"
     ]
    }
   ],
   "source": [
    "rl = torch.rand_like(zl)\n",
    "print(rl)"
   ]
  },
  {
   "cell_type": "markdown",
   "id": "8bb04c69-30df-4438-b473-9e2071f9d6a6",
   "metadata": {},
   "source": [
    "## Reproducibility\n",
    "\n",
    "### PyTorch Random Number Generator (RNG)"
   ]
  },
  {
   "cell_type": "code",
   "execution_count": 33,
   "id": "379e8319-8ba0-45c2-ba97-2916f0858e49",
   "metadata": {},
   "outputs": [
    {
     "data": {
      "text/plain": [
       "<torch._C.Generator at 0x109737950>"
      ]
     },
     "execution_count": 33,
     "metadata": {},
     "output_type": "execute_result"
    }
   ],
   "source": [
    "torch.manual_seed(0)"
   ]
  },
  {
   "cell_type": "markdown",
   "id": "328765b1-9edc-41d4-8ad0-979dce8990d1",
   "metadata": {},
   "source": [
    "### python seed "
   ]
  },
  {
   "cell_type": "code",
   "execution_count": 34,
   "id": "0e8acf3d-5561-44af-830a-149878900619",
   "metadata": {},
   "outputs": [],
   "source": [
    "import random\n",
    "random.seed(0)"
   ]
  },
  {
   "cell_type": "markdown",
   "id": "284667c1-2463-40d7-85fe-f653b37bf784",
   "metadata": {},
   "source": [
    "### Numpy seed"
   ]
  },
  {
   "cell_type": "code",
   "execution_count": 35,
   "id": "2c0dac72-08ad-433c-99f6-cbac4670bc09",
   "metadata": {},
   "outputs": [],
   "source": [
    "np.random.seed(0)"
   ]
  },
  {
   "cell_type": "markdown",
   "id": "14682377-c92e-42e0-b8ba-0fa69e2692b8",
   "metadata": {},
   "source": [
    "Defining a function called `set_seed` "
   ]
  },
  {
   "cell_type": "code",
   "execution_count": 37,
   "id": "80074eab-bfa4-4576-8758-47c18a486b47",
   "metadata": {},
   "outputs": [],
   "source": [
    "def set_seed(seed=None, seed_torch=True):\n",
    "    \"\"\"\n",
    "    Function that controls randomness. Numpy and random modules must be imported\n",
    "\n",
    "    Args:\n",
    "        seed: int\n",
    "            A non-negative integer that defines the random state. Default is 'None'.\n",
    "        seed_torch: bool\n",
    "            If 'True' sets the random seed for pytorch tensors, so pytorch module \n",
    "            must be imported. Default is 'True'\n",
    "\n",
    "    Returns:\n",
    "        Nothing\n",
    "    \"\"\"\n",
    "\n",
    "    if seed is None:\n",
    "        seed = np.random.choice(2**32)\n",
    "    random.seed(seed)\n",
    "    np.random.seed(seed)\n",
    "\n",
    "    if seed_torch:\n",
    "        torch.manual_seed(seed)\n",
    "        ## for mps\n",
    "        torch.mps.manual_seed(seed)\n",
    "        ## for cuda\n",
    "        # torch.cuda.manual_seed_all(seed)\n",
    "        # torch.cuda.manual_seed(seed)\n",
    "        # torch.backends.cudnn.benchmark = False\n",
    "        # torch.backends.cudnn.deterministic = True\n",
    "\n",
    "    print(f\"Random seed {seed} has been set.\")"
   ]
  },
  {
   "cell_type": "code",
   "execution_count": 38,
   "id": "8c1fef33-496f-44a9-b098-2c61132bbd08",
   "metadata": {},
   "outputs": [],
   "source": [
    "def simplefun(seed=True, my_seed=None):\n",
    "  \"\"\"\n",
    "  Helper function to verify effectiveness of set_seed attribute\n",
    "\n",
    "  Args:\n",
    "    seed: Boolean\n",
    "      Specifies if seed value is provided or not\n",
    "    my_seed: Integer\n",
    "      Initializes seed to specified value\n",
    "\n",
    "  Returns:\n",
    "    Nothing\n",
    "  \"\"\"\n",
    "  if seed:\n",
    "    set_seed(seed=my_seed)\n",
    "\n",
    "  # uniform distribution\n",
    "  a = torch.rand(1, 3)\n",
    "  # normal distribution\n",
    "  b = torch.randn(3, 4)\n",
    "\n",
    "  print(\"Tensor a: \", a)\n",
    "  print(\"Tensor b: \", b)"
   ]
  },
  {
   "cell_type": "code",
   "execution_count": 39,
   "id": "9a35bfcc-ed1b-4358-9422-f5cb1c5ae27b",
   "metadata": {},
   "outputs": [
    {
     "name": "stdout",
     "output_type": "stream",
     "text": [
      "Random seed 0 has been set.\n",
      "Tensor a:  tensor([[0.4963, 0.7682, 0.0885]])\n",
      "Tensor b:  tensor([[ 0.3643,  0.1344,  0.1642,  0.3058],\n",
      "        [ 0.2100,  0.9056,  0.6035,  0.8110],\n",
      "        [-0.0451,  0.8797,  1.0482, -0.0445]])\n"
     ]
    }
   ],
   "source": [
    "simplefun(seed=True, my_seed=0)"
   ]
  },
  {
   "cell_type": "code",
   "execution_count": 40,
   "id": "5bb1970a-f872-40d3-9904-4d4bd44a5feb",
   "metadata": {},
   "outputs": [
    {
     "name": "stdout",
     "output_type": "stream",
     "text": [
      "Tensor a:  tensor([[0.0362, 0.1852, 0.3734]])\n",
      "Tensor b:  tensor([[-0.9528,  0.3717,  0.4087,  1.4214],\n",
      "        [ 0.1494, -0.6709, -0.2142, -0.4320],\n",
      "        [-0.7079, -0.1064, -1.2427, -0.4762]])\n"
     ]
    }
   ],
   "source": [
    "simplefun(seed=False, my_seed=0)"
   ]
  },
  {
   "cell_type": "code",
   "execution_count": 42,
   "id": "c23aa1dc-4f2d-4398-9d26-18f18b3fd7bb",
   "metadata": {},
   "outputs": [
    {
     "name": "stdout",
     "output_type": "stream",
     "text": [
      "Random seed 1608637542 has been set.\n",
      "Tensor a:  tensor([[0.4035, 0.9807, 0.1538]])\n",
      "Tensor b:  tensor([[-0.0153,  0.1611,  0.3617, -0.7011],\n",
      "        [-1.2480,  1.7167, -0.6075, -1.1244],\n",
      "        [ 0.3741, -0.8877, -0.2190,  1.3018]])\n"
     ]
    }
   ],
   "source": [
    "simplefun(seed=True, my_seed=None)"
   ]
  },
  {
   "cell_type": "markdown",
   "id": "024dcdf1-fbde-459c-ace6-c8ee972a3a69",
   "metadata": {},
   "source": [
    "## Numpy-like number ranges\n",
    "The .arange() and .linspace() behave how you would expect them to if you are familar with numpy."
   ]
  },
  {
   "cell_type": "code",
   "execution_count": 43,
   "id": "29019e93-6497-4f52-925d-a6d9ef6561da",
   "metadata": {},
   "outputs": [
    {
     "name": "stdout",
     "output_type": "stream",
     "text": [
      "[0 1 2 3 4 5 6 7 8 9]\n",
      "\n",
      "tensor([0, 1, 2, 3, 4, 5, 6, 7, 8, 9])\n"
     ]
    }
   ],
   "source": [
    "a = np.arange(0,10, step=1)\n",
    "print(a)\n",
    "print()\n",
    "b = torch.arange(0,10, step=1)\n",
    "print(b)"
   ]
  },
  {
   "cell_type": "code",
   "execution_count": 47,
   "id": "06b2220f-19bf-4996-b256-f4e0219ae643",
   "metadata": {},
   "outputs": [
    {
     "name": "stdout",
     "output_type": "stream",
     "text": [
      "[0.  0.5 1.  1.5 2.  2.5 3.  3.5 4.  4.5 5. ]\n",
      "\n",
      "tensor([0.0000, 0.5000, 1.0000, 1.5000, 2.0000, 2.5000, 3.0000, 3.5000, 4.0000,\n",
      "        4.5000, 5.0000])\n"
     ]
    }
   ],
   "source": [
    "c = np.linspace(0,5, num=11)\n",
    "print(c)\n",
    "print()\n",
    "d = torch.linspace(0,5, steps=11)\n",
    "print(d)"
   ]
  },
  {
   "cell_type": "markdown",
   "id": "4e978da1-e8bb-494e-8518-894a977d6024",
   "metadata": {},
   "source": [
    "## Exercise\n",
    "\n",
    "Below you will find some incomplete code. Fill in the missing code to construct the specified tensors.\n",
    "\n",
    "We want the tensors:\n",
    "\n",
    "- A: 20 by 21 tensor consisting of ones\n",
    "\n",
    "- B: a tensor with elements equal to the elements of numpy array Z\n",
    "\n",
    "- C: a tensor with the same number of elements as A but with values from uniform distribution\n",
    "\n",
    "- D: a 1D tensor containing the even numbers between 4 and 40 inclusive."
   ]
  },
  {
   "cell_type": "code",
   "execution_count": 48,
   "id": "a66135f6-75a4-4e33-99fd-666760a2bdf9",
   "metadata": {},
   "outputs": [
    {
     "data": {
      "text/plain": [
       "array([[1, 1, 1],\n",
       "       [4, 2, 1],\n",
       "       [9, 3, 1]])"
      ]
     },
     "execution_count": 48,
     "metadata": {},
     "output_type": "execute_result"
    }
   ],
   "source": [
    "np.vander([1,2,3])"
   ]
  },
  {
   "cell_type": "code",
   "execution_count": 49,
   "id": "e052313e-5646-406c-8678-22aeaef34cd5",
   "metadata": {},
   "outputs": [
    {
     "data": {
      "text/plain": [
       "array([[1, 1, 1],\n",
       "       [4, 2, 1],\n",
       "       [9, 3, 1]])"
      ]
     },
     "execution_count": 49,
     "metadata": {},
     "output_type": "execute_result"
    }
   ],
   "source": [
    "np.array([\n",
    "    [1**2, 1**1, 1**0],\n",
    "    [2**2, 2**1, 2**0],\n",
    "    [3**2, 3**1, 3**0]\n",
    "])"
   ]
  },
  {
   "cell_type": "code",
   "execution_count": 50,
   "id": "31ee93cd-35f9-4796-a850-ab87cd071d9c",
   "metadata": {},
   "outputs": [
    {
     "data": {
      "text/plain": [
       "array([[ 1,  1,  1,  1],\n",
       "       [ 8,  4,  2,  1],\n",
       "       [27,  9,  3,  1]])"
      ]
     },
     "execution_count": 50,
     "metadata": {},
     "output_type": "execute_result"
    }
   ],
   "source": [
    "np.vander([1,2,3], 4)"
   ]
  },
  {
   "cell_type": "code",
   "execution_count": 51,
   "id": "2df134e9-b57f-491f-88fe-81a9a4e05ac5",
   "metadata": {},
   "outputs": [
    {
     "data": {
      "text/plain": [
       "array([[ 1,  1,  1,  1],\n",
       "       [ 8,  4,  2,  1],\n",
       "       [27,  9,  3,  1]])"
      ]
     },
     "execution_count": 51,
     "metadata": {},
     "output_type": "execute_result"
    }
   ],
   "source": [
    "np.array([\n",
    "    [1**3, 1**2, 1**1, 1**0],\n",
    "    [2**3, 2**2, 2**1, 2**0],\n",
    "    [3**3, 3**2, 3**1, 3**0]\n",
    "])"
   ]
  },
  {
   "cell_type": "markdown",
   "id": "f50f1aee-4c5e-4690-8459-9d027ad9b616",
   "metadata": {},
   "source": [
    "### Helper function to test exercise 1"
   ]
  },
  {
   "cell_type": "code",
   "execution_count": 68,
   "id": "e054c8ac-89ef-4ef8-9f11-723f62c44e99",
   "metadata": {},
   "outputs": [],
   "source": [
    "# @title Helper Functions\n",
    "\n",
    "def checkExercise1(A, B, C, D):\n",
    "  \"\"\"\n",
    "  Helper function for checking Exercise 1.\n",
    "\n",
    "  Args:\n",
    "    A: torch.Tensor\n",
    "      Torch Tensor of shape (20, 21) consisting of ones.\n",
    "    B: torch.Tensor\n",
    "      Torch Tensor of size([3,4])\n",
    "    C: torch.Tensor\n",
    "      Torch Tensor of size([20,21])\n",
    "    D: torch.Tensor\n",
    "      Torch Tensor of size([19])\n",
    "\n",
    "  Returns:\n",
    "    Nothing.\n",
    "  \"\"\"\n",
    "  assert torch.equal(A.to(int),torch.ones(20, 21).to(int)), \"Got: {A} \\n Expected: {torch.ones(20, 21)} (shape: {torch.ones(20, 21).shape})\"\n",
    "  assert np.array_equal(B.numpy(),np.vander([1, 2, 3], 4)), \"Got: {B} \\n Expected: {np.vander([1, 2, 3], 4)} (shape: {np.vander([1, 2, 3], 4).shape})\"\n",
    "  assert C.shape == (20, 21), \"Got: {C} \\n Expected (shape: {(20, 21)})\"\n",
    "  assert torch.equal(D, torch.arange(4, 41, step=2)), \"Got {D} \\n Expected: {torch.arange(4, 41, step=2)} (shape: {torch.arange(4, 41, step=2).shape})\"\n",
    "  print(\"All correct\")"
   ]
  },
  {
   "cell_type": "code",
   "execution_count": 73,
   "id": "6737feb2-c8a9-4564-9da7-c95fc9e7f49f",
   "metadata": {},
   "outputs": [],
   "source": [
    "def tensor_creation(Z):\n",
    "    \"\"\"\n",
    "    A function that creates various tensors.\n",
    "    \n",
    "    Args:\n",
    "    Z: numpy.ndarray\n",
    "      An array of shape (3,4)\n",
    "    \n",
    "    Returns:\n",
    "    A : Tensor\n",
    "      20 by 21 tensor consisting of ones\n",
    "    B : Tensor\n",
    "      A tensor with elements equal to the elements of numpy array Z\n",
    "    C : Tensor\n",
    "      A tensor with the same number of elements as A but with values ∼U(0,1)\n",
    "    D : Tensor\n",
    "      A 1D tensor containing the even numbers between 4 and 40 inclusive.\n",
    "    \"\"\"\n",
    "    #################################################\n",
    "    ## TODO for students: fill in the missing code\n",
    "    ## from the first expression\n",
    "    # raise NotImplementedError(\"Student exercise: say what they should have done\")\n",
    "    #################################################\n",
    "    A = torch.ones([20,21])\n",
    "    B = torch.tensor(Z)\n",
    "    # same \n",
    "    # B = torch.asarray(Z)\n",
    "    C = torch.rand_like(A)\n",
    "    D = torch.arange(4,41,2)\n",
    "    \n",
    "    return A, B, C, D"
   ]
  },
  {
   "cell_type": "code",
   "execution_count": 74,
   "id": "80ab4357-ab99-40ec-a96d-23f10706f606",
   "metadata": {},
   "outputs": [
    {
     "name": "stdout",
     "output_type": "stream",
     "text": [
      "All correct\n"
     ]
    }
   ],
   "source": [
    "# numpy array to copy later\n",
    "Z = np.vander([1, 2, 3], 4)\n",
    "\n",
    "# Uncomment below to check your function!\n",
    "A, B, C, D = tensor_creation(Z)\n",
    "checkExercise1(A, B, C, D)"
   ]
  },
  {
   "cell_type": "code",
   "execution_count": 70,
   "id": "f2e71bf8-5bea-4111-9f62-2cef778dd2b3",
   "metadata": {},
   "outputs": [
    {
     "data": {
      "text/plain": [
       "True"
      ]
     },
     "execution_count": 70,
     "metadata": {},
     "output_type": "execute_result"
    }
   ],
   "source": []
  },
  {
   "cell_type": "code",
   "execution_count": null,
   "id": "6aef5de2-0381-49c8-b792-470656909e9b",
   "metadata": {},
   "outputs": [],
   "source": []
  },
  {
   "cell_type": "code",
   "execution_count": null,
   "id": "5cbe9c2b-7221-4cdc-8a14-79d399f65177",
   "metadata": {},
   "outputs": [],
   "source": []
  },
  {
   "cell_type": "code",
   "execution_count": null,
   "id": "539a4651-a185-47b4-9e4e-ac63c6ebe70a",
   "metadata": {},
   "outputs": [],
   "source": []
  }
 ],
 "metadata": {
  "kernelspec": {
   "display_name": "Python 3 (ipykernel)",
   "language": "python",
   "name": "python3"
  },
  "language_info": {
   "codemirror_mode": {
    "name": "ipython",
    "version": 3
   },
   "file_extension": ".py",
   "mimetype": "text/x-python",
   "name": "python",
   "nbconvert_exporter": "python",
   "pygments_lexer": "ipython3",
   "version": "3.12.9"
  }
 },
 "nbformat": 4,
 "nbformat_minor": 5
}
